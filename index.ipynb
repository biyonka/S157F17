{
 "cells": [
  {
   "cell_type": "markdown",
   "metadata": {},
   "source": [
    "# Statistics 157: Nonparametric Inference and Sensitivity Auditing with Applications to Social Good\n",
    "\n",
    "## Index to Materials"
   ]
  },
  {
   "cell_type": "markdown",
   "metadata": {},
   "source": [
    "+ [Overview](./overview.ipynb)\n",
    "+ [Mathematical Foundations](./math-foundations.ipynb)\n",
    "+ [Inequalities](./math-inequalities.ipynb)\n",
    "+ [Probability Foundations](./prob.ipynb)\n",
    "+ [Pseudo-random number generation](./pseudo-random.ipynb)\n",
    "+ [Generating random permutations and random samples](./permute-sample.ipynb)\n",
    "+ [Introduction to election auditing and the Kaplan-Markov Inequality](./audit.ipynb)\n",
    "+ [Confidence bounds for the mean of finite populations](./canonical.ipynb)\n",
    "    - [The Normal approximation](./normApprox.ipynb)\n",
    "    - [Duality between testing and confidence sets](./duality.ipynb)\n",
    "    - [Confidence sets derived from the Binomial](./binomial.ipynb)\n",
    "    - [Wald's Sequential Probability Ratio Test (SPRT)](./sprt.ipynb)\n",
    "    - [The SPRT for sampling without replacement](./sprtNoReplacement.ipynb)\n",
    "    - [The Kaplan-Wald confidence bound](./kaplanWald.ipynb)\n",
    "    - [Dollar-Unit Sampling and taint](./dus.ipynb)\n",
    "    - [Penny sampling](./pennySampling.ipynb)\n",
    "    - [Method shootout](./shootout.ipynb)\n",
    "+ [Introduction to permutation tests; application to gender bias in teaching evaluations](./permute.ipynb)\n",
    "+ [Abstract permutation tests using projections](./permute-distance.ipynb)\n",
    "+ [The Child Online Protection Act and Internet Content Filtering: nonparametric confidence intervals for porn](./copa.ipynb)\n",
    "+ [Where's the beef? Transmissible Spongiform Encephalopathy and U.S. imports of Canadian cattle](https://www.stat.berkeley.edu/~stark/SticiGui/Text/bse.htm)\n",
    "+ [The EM algorithm](./em.ipynb) (incomplete)\n",
    "+ [P-values, Probability, Priors, Rabbits, Quantifauxcation, and Cargo-Cult Statistics](./rabbits.ipynb)"
   ]
  },
  {
   "cell_type": "markdown",
   "metadata": {},
   "source": [
    "## Guidelines for Term Projects\n",
    "\n",
    "+ All code readable, documented adequately, accompanied by unit tests with high (>98%) coverage, and made available in GitHub\n",
    "+ Presentation _source_ should be LaTeX or Markdown or Jupyter or another open format (not, e.g., Powerpoint)\n",
    "+ Paper should be written in LaTeX or Markdown or another open format (not, e.g., Word)\n",
    "+ Presentations should be about 30 minutes, plus time for questions. Everyone on each team should say _something_ during the presentation (to get some practice with public speaking), but it's fine to have one or two people do most of the talking. \n",
    "+ Written reports should be in the form of a paper, including an abstract, introduction, a brief literature review, methods, results, open questions or next steps, links to code and data, and an appropriate bibliography. There is no length requirement for the report.\n",
    "+ At the end of the report, in an \"Acknowledgments\" section, please include a few sentences describing each team member's contributions to the work."
   ]
  },
  {
   "cell_type": "markdown",
   "metadata": {},
   "source": [
    "## Bibliography and Reading\n",
    "\n",
    "+ https://www.ted.com/talks/cathy_o_neil_the_era_of_blind_faith_in_big_data_must_end/\n",
    "+ https://www.wired.com/story/defining-hate-speech-online-is-imperfect-art-as-much-as-science/\n",
    "+ https://www.wired.com/story/machines-taught-by-photos-learn-a-sexist-view-of-women\n",
    "+ https://www.wired.com/story/bail-reform-tech-justice\n",
    "+ http://onlinelibrary.wiley.com/doi/10.1111/j.1740-9713.2016.00960.x/full\n",
    "+ http://www.annualreviews.org/doi/full/10.1146/annurev-resource-091912-151843\n",
    "+ The _permute_ developer guide: http://statlab.github.io/permute/dev/index.html\n",
    "+ Arratia, R., S. Garibaldi, L. Mower, and P.B. Stark, 2015. Some\n",
    "people have all the luck. Mathematics Magazine, 88, 196–211.\n",
    "doi:10.4169/math.mag.88.3.196.c, Reprint: http://www.stat.berkeley.edu/~stark/Preprints/luck15.pdf\n",
    "+ Boring, A., K. Ottoboni, and P.B. Stark, 2016. \n",
    "[Student Evaluations of Teaching (Mostly) Do Not Measure Teaching Effectiveness](https://www.scienceopen.com/document?vid=818d8ec0-5908-47d8-86b4-5dc38f04b23e)\n",
    "+ Clark, A., 1984. _Elements of Abstract Algebra_, Dover.\n",
    "+ Hardy, G., J.E. Littlewood, and G. P\\'{o}lya, 1952. _Inequalities, 2nd ed._, Cambridge University Press, Cambridge.\n",
    "+ Lehmann, E., _Nonparametrics: Statistical Methods Based on Ranks_, 1st ed. 1975; revised edition 2006.\n",
    "+ Lugosi, G., 2006. _Concentration-of-Measure Inequalities_\n",
    "+ Pitman, E.J.G., 1937. [Significance Tests Which May be Applied to Samples From any Populations](https://www.jstor.org/stable/2984124?seq=1#page_scan_tab_contents)\n",
    "+ Stark, P.B., 1997--2017. _SticiGui_, statistics.berkeley.edu/users/stark/SticiGui\n",
    "+ Stark, P.B., and D.A. Freedman, 2001. [What is the Chance of an Earthquake?](https://www.stat.berkeley.edu/~stark/Preprints/611.pdf)\n",
    "+ Stark, P.B., 2016. [Pay no Attention to the Model Behind the Curtain](https://www.stat.berkeley.edu/~stark/Preprints/eucCurtain15.pdf)\n",
    "+ Stark, P.B., 2010. [Super-Simple Simultaneous Single-Ballot Risk-Limiting Audits](https://www.usenix.org/legacy/event/evtwote10/tech/full_papers/Stark.pdf)\n",
    "+ Lindeman, M., and P.B. Stark, 2012. [A Gentle Introduction to Risk-Limiting Audits](https://www.stat.berkeley.edu/~stark/Preprints/gentle12.pdf)\n",
    "+ Stark, P.B., and D.A. Wagner, 2012. [Evidence-Based Elections](https://www.stat.berkeley.edu/~stark/Preprints/evidenceVote12.pdf)"
   ]
  },
  {
   "cell_type": "code",
   "execution_count": null,
   "metadata": {
    "collapsed": true
   },
   "outputs": [],
   "source": []
  }
 ],
 "metadata": {
  "kernelspec": {
   "display_name": "Python 3",
   "language": "python",
   "name": "python3"
  },
  "language_info": {
   "codemirror_mode": {
    "name": "ipython",
    "version": 3
   },
   "file_extension": ".py",
   "mimetype": "text/x-python",
   "name": "python",
   "nbconvert_exporter": "python",
   "pygments_lexer": "ipython3",
   "version": "3.6.1"
  }
 },
 "nbformat": 4,
 "nbformat_minor": 2
}
